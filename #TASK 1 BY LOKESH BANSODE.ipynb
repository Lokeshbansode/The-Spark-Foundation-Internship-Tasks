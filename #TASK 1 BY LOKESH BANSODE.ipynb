{
 "cells": [
  {
   "cell_type": "markdown",
   "id": "911df6d3",
   "metadata": {},
   "source": [
    " ## AUTHOR : Lokesh Bansode\n",
    "\n",
    "<b> Task 1: Prediction using Supervised Machine Learning\n",
    "    \n",
    "<b> GRIP @ The Sparks Foundation\n",
    "\n",
    "#gripjanuary23\n",
    "\n",
    "In this regression task I tried to predict the percentage of marks that a student expected to score based upon the number of hours they studied.\n",
    "\n",
    "This is a simple linear regression task as it involvesjust two variables.\n"
   ]
  },
  {
   "cell_type": "markdown",
   "id": "699c4a13",
   "metadata": {},
   "source": [
    "####  Importing Required Librebries: Sklearn, Numpy array, Pandas, Matplotlib, Seaborn"
   ]
  },
  {
   "cell_type": "code",
   "execution_count": 84,
   "id": "05e0aaa4",
   "metadata": {},
   "outputs": [],
   "source": [
    "import pandas as pd\n",
    "import numpy as np\n",
    "import matplotlib.pyplot as plt\n",
    "import seaborn as sns\n",
    "from sklearn  import linear_model\n",
    "from sklearn.model_selection import train_test_split\n",
    "from sklearn import metrics\n",
    "import warnings\n",
    "warnings.filterwarnings(\"ignore\")"
   ]
  },
  {
   "cell_type": "markdown",
   "id": "87907f09",
   "metadata": {},
   "source": [
    "#### Step 1 - Import Dataset "
   ]
  },
  {
   "cell_type": "code",
   "execution_count": 85,
   "id": "5cbf2427",
   "metadata": {},
   "outputs": [],
   "source": [
    "df = pd.read_csv(\"D:\\BIA\\student_scores.csv\")"
   ]
  },
  {
   "cell_type": "code",
   "execution_count": 86,
   "id": "6fe95369",
   "metadata": {},
   "outputs": [
    {
     "data": {
      "text/html": [
       "<div>\n",
       "<style scoped>\n",
       "    .dataframe tbody tr th:only-of-type {\n",
       "        vertical-align: middle;\n",
       "    }\n",
       "\n",
       "    .dataframe tbody tr th {\n",
       "        vertical-align: top;\n",
       "    }\n",
       "\n",
       "    .dataframe thead th {\n",
       "        text-align: right;\n",
       "    }\n",
       "</style>\n",
       "<table border=\"1\" class=\"dataframe\">\n",
       "  <thead>\n",
       "    <tr style=\"text-align: right;\">\n",
       "      <th></th>\n",
       "      <th>Hours</th>\n",
       "      <th>Scores</th>\n",
       "    </tr>\n",
       "  </thead>\n",
       "  <tbody>\n",
       "    <tr>\n",
       "      <th>0</th>\n",
       "      <td>2.5</td>\n",
       "      <td>21</td>\n",
       "    </tr>\n",
       "    <tr>\n",
       "      <th>1</th>\n",
       "      <td>5.1</td>\n",
       "      <td>47</td>\n",
       "    </tr>\n",
       "    <tr>\n",
       "      <th>2</th>\n",
       "      <td>3.2</td>\n",
       "      <td>27</td>\n",
       "    </tr>\n",
       "    <tr>\n",
       "      <th>3</th>\n",
       "      <td>8.5</td>\n",
       "      <td>75</td>\n",
       "    </tr>\n",
       "    <tr>\n",
       "      <th>4</th>\n",
       "      <td>3.5</td>\n",
       "      <td>30</td>\n",
       "    </tr>\n",
       "  </tbody>\n",
       "</table>\n",
       "</div>"
      ],
      "text/plain": [
       "   Hours  Scores\n",
       "0    2.5      21\n",
       "1    5.1      47\n",
       "2    3.2      27\n",
       "3    8.5      75\n",
       "4    3.5      30"
      ]
     },
     "execution_count": 86,
     "metadata": {},
     "output_type": "execute_result"
    }
   ],
   "source": [
    "#Lets check the head of the data\n",
    "df.head()"
   ]
  },
  {
   "cell_type": "code",
   "execution_count": 87,
   "id": "4114131f",
   "metadata": {},
   "outputs": [
    {
     "data": {
      "text/plain": [
       "(25, 2)"
      ]
     },
     "execution_count": 87,
     "metadata": {},
     "output_type": "execute_result"
    }
   ],
   "source": [
    "#checking the shape of the data\n",
    "df.shape"
   ]
  },
  {
   "cell_type": "code",
   "execution_count": 88,
   "id": "70d47975",
   "metadata": {},
   "outputs": [
    {
     "data": {
      "text/plain": [
       "False"
      ]
     },
     "execution_count": 88,
     "metadata": {},
     "output_type": "execute_result"
    }
   ],
   "source": [
    "#lets check do we have any null value in data\n",
    "df.isnull().sum().any()"
   ]
  },
  {
   "cell_type": "markdown",
   "id": "cc02e557",
   "metadata": {},
   "source": [
    "As we can See the output is False So we can conclude that there is no null value in our dataset and we can proceed the furthur analysis"
   ]
  },
  {
   "cell_type": "markdown",
   "id": "4cfddc2d",
   "metadata": {},
   "source": [
    "#### Step 2 - Input Data Visualization"
   ]
  },
  {
   "cell_type": "code",
   "execution_count": 89,
   "id": "bdc4f29c",
   "metadata": {},
   "outputs": [
    {
     "data": {
      "image/png": "[encoded data removed]",
      "text/plain": [
       "<Figure size 432x288 with 1 Axes>"
      ]
     },
     "metadata": {
      "needs_background": "light"
     },
     "output_type": "display_data"
    }
   ],
   "source": [
    "#lets check the relationship between hours and scores\n",
    "sns.scatterplot(x = \"Scores\", y= \"Hours\", data = df, hue = \"Scores\")\n",
    "plt.show()"
   ]
  },
  {
   "cell_type": "markdown",
   "id": "0eff1ad2",
   "metadata": {},
   "source": [
    "As we can see there is a positive relation between our input variable and target variable"
   ]
  },
  {
   "cell_type": "markdown",
   "id": "b68a76c2",
   "metadata": {},
   "source": [
    "#### Step 3 - Data processing"
   ]
  },
  {
   "cell_type": "code",
   "execution_count": 90,
   "id": "5fb292e5",
   "metadata": {},
   "outputs": [],
   "source": [
    "df_Input = df.drop(['Scores'],axis=1).values\n",
    "df_Target = df.Scores.values"
   ]
  },
  {
   "cell_type": "markdown",
   "id": "6039a6a8",
   "metadata": {},
   "source": [
    "#### Step 4 -  Model Training"
   ]
  },
  {
   "cell_type": "code",
   "execution_count": 91,
   "id": "f52e6228",
   "metadata": {},
   "outputs": [],
   "source": [
    "#We Going to split the data\n",
    "x_train, x_test, y_train, y_test = train_test_split(df_Input,df_Target, test_size =.20,random_state= 0)"
   ]
  },
  {
   "cell_type": "markdown",
   "id": "8c0dd19e",
   "metadata": {},
   "source": [
    "Training Complete"
   ]
  },
  {
   "cell_type": "code",
   "execution_count": 92,
   "id": "05bc9472",
   "metadata": {},
   "outputs": [],
   "source": [
    "#Creating The Linear Regression object\n",
    "\n",
    "lr = linear_model.LinearRegression()"
   ]
  },
  {
   "cell_type": "code",
   "execution_count": 93,
   "id": "73bedeb5",
   "metadata": {},
   "outputs": [
    {
     "name": "stdout",
     "output_type": "stream",
     "text": [
      "Training Complete.\n"
     ]
    }
   ],
   "source": [
    "lr.fit(x_train, y_train)\n",
    "print(\"Training Complete.\")"
   ]
  },
  {
   "cell_type": "code",
   "execution_count": 94,
   "id": "8db08862",
   "metadata": {},
   "outputs": [
    {
     "data": {
      "text/plain": [
       "array([9.91065648])"
      ]
     },
     "execution_count": 94,
     "metadata": {},
     "output_type": "execute_result"
    }
   ],
   "source": [
    "lr.coef_"
   ]
  },
  {
   "cell_type": "code",
   "execution_count": 95,
   "id": "6d6791b5",
   "metadata": {},
   "outputs": [
    {
     "data": {
      "text/plain": [
       "2.018160041434662"
      ]
     },
     "execution_count": 95,
     "metadata": {},
     "output_type": "execute_result"
    }
   ],
   "source": [
    "lr.intercept_"
   ]
  },
  {
   "cell_type": "markdown",
   "id": "16e26dcd",
   "metadata": {},
   "source": [
    "#### Step 5 -  Plotting the Line of regression"
   ]
  },
  {
   "cell_type": "code",
   "execution_count": 96,
   "id": "23f410f9",
   "metadata": {},
   "outputs": [
    {
     "data": {
      "image/png": "[encoded data removed]",
      "text/plain": [
       "<Figure size 432x288 with 1 Axes>"
      ]
     },
     "metadata": {
      "needs_background": "light"
     },
     "output_type": "display_data"
    }
   ],
   "source": [
    "line = lr.coef_*df_Input+lr.intercept_\n",
    "sns.scatterplot(x = 'Hours', y = 'Scores', data = df)\n",
    "plt.title('Regression line')\n",
    "plt.plot(df_Input, line, c = 'r');\n",
    "plt.show()"
   ]
  },
  {
   "cell_type": "markdown",
   "id": "ef7fedd9",
   "metadata": {},
   "source": [
    "Now that we have trained our algorithm, it's time to test the model by making some predictions.\n",
    "For this we will use our test-set data"
   ]
  },
  {
   "cell_type": "code",
   "execution_count": 97,
   "id": "be5f5981",
   "metadata": {},
   "outputs": [
    {
     "data": {
      "text/plain": [
       "array([16.88414476, 33.73226078, 75.357018  , 26.79480124, 60.49103328])"
      ]
     },
     "execution_count": 97,
     "metadata": {},
     "output_type": "execute_result"
    }
   ],
   "source": [
    "y_predict = lr.predict(x_test)\n",
    "y_predict"
   ]
  },
  {
   "cell_type": "markdown",
   "id": "d15ec8d2",
   "metadata": {},
   "source": [
    "### What Will be predicted score if a student studies for 9.25hrs/day ?"
   ]
  },
  {
   "cell_type": "code",
   "execution_count": 98,
   "id": "bbe64a9b",
   "metadata": {},
   "outputs": [
    {
     "name": "stdout",
     "output_type": "stream",
     "text": [
      "Predicted Score : [93.69173249]\n"
     ]
    }
   ],
   "source": [
    "X_new = pd.DataFrame({'Hours':[9.25]})\n",
    "predicted_score = lr.predict(X_new)\n",
    "print(f'Predicted Score : {predicted_score}')"
   ]
  },
  {
   "cell_type": "markdown",
   "id": "9bbb9f24",
   "metadata": {},
   "source": [
    "Comparing Actual result to the Predicted Model result"
   ]
  },
  {
   "cell_type": "code",
   "execution_count": 101,
   "id": "f4aa79b5",
   "metadata": {},
   "outputs": [
    {
     "data": {
      "text/html": [
       "<div>\n",
       "<style scoped>\n",
       "    .dataframe tbody tr th:only-of-type {\n",
       "        vertical-align: middle;\n",
       "    }\n",
       "\n",
       "    .dataframe tbody tr th {\n",
       "        vertical-align: top;\n",
       "    }\n",
       "\n",
       "    .dataframe thead th {\n",
       "        text-align: right;\n",
       "    }\n",
       "</style>\n",
       "<table border=\"1\" class=\"dataframe\">\n",
       "  <thead>\n",
       "    <tr style=\"text-align: right;\">\n",
       "      <th></th>\n",
       "      <th>Actual</th>\n",
       "      <th>Predicted</th>\n",
       "    </tr>\n",
       "  </thead>\n",
       "  <tbody>\n",
       "    <tr>\n",
       "      <th>0</th>\n",
       "      <td>20</td>\n",
       "      <td>16.884145</td>\n",
       "    </tr>\n",
       "    <tr>\n",
       "      <th>1</th>\n",
       "      <td>27</td>\n",
       "      <td>33.732261</td>\n",
       "    </tr>\n",
       "    <tr>\n",
       "      <th>2</th>\n",
       "      <td>69</td>\n",
       "      <td>75.357018</td>\n",
       "    </tr>\n",
       "    <tr>\n",
       "      <th>3</th>\n",
       "      <td>30</td>\n",
       "      <td>26.794801</td>\n",
       "    </tr>\n",
       "    <tr>\n",
       "      <th>4</th>\n",
       "      <td>62</td>\n",
       "      <td>60.491033</td>\n",
       "    </tr>\n",
       "  </tbody>\n",
       "</table>\n",
       "</div>"
      ],
      "text/plain": [
       "   Actual  Predicted\n",
       "0      20  16.884145\n",
       "1      27  33.732261\n",
       "2      69  75.357018\n",
       "3      30  26.794801\n",
       "4      62  60.491033"
      ]
     },
     "execution_count": 101,
     "metadata": {},
     "output_type": "execute_result"
    }
   ],
   "source": [
    "Difference= pd.DataFrame({'Actual':y_test, 'Predicted':y_predict})\n",
    "Difference"
   ]
  },
  {
   "cell_type": "markdown",
   "id": "2f915b2f",
   "metadata": {},
   "source": [
    "#### Evaluating the Model"
   ]
  },
  {
   "cell_type": "markdown",
   "id": "d209c548",
   "metadata": {},
   "source": [
    "checking the error rate of our model which help us to understand how accurate our model is"
   ]
  },
  {
   "cell_type": "code",
   "execution_count": 103,
   "id": "c8a5f76f",
   "metadata": {},
   "outputs": [
    {
     "name": "stdout",
     "output_type": "stream",
     "text": [
      "Mean Absolute Error: 4.183859899002982\n"
     ]
    }
   ],
   "source": [
    "print('Mean Absolute Error:',\n",
    "     metrics.mean_absolute_error(y_test, y_predict))"
   ]
  },
  {
   "cell_type": "code",
   "execution_count": null,
   "id": "a5a80906",
   "metadata": {},
   "outputs": [],
   "source": []
  }
 ],
 "metadata": {
  "kernelspec": {
   "display_name": "Python 3 (ipykernel)",
   "language": "python",
   "name": "python3"
  },
  "language_info": {
   "codemirror_mode": {
    "name": "ipython",
    "version": 3
   },
   "file_extension": ".py",
   "mimetype": "text/x-python",
   "name": "python",
   "nbconvert_exporter": "python",
   "pygments_lexer": "ipython3",
   "version": "3.9.12"
  }
 },
 "nbformat": 4,
 "nbformat_minor": 5
}
